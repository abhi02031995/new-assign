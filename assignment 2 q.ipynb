{
 "cells": [
  {
   "cell_type": "markdown",
   "id": "5bbb4b2e",
   "metadata": {},
   "source": [
    "# Multiple Inheritance"
   ]
  },
  {
   "cell_type": "code",
   "execution_count": 2,
   "id": "c05607cf",
   "metadata": {},
   "outputs": [
    {
     "name": "stdout",
     "output_type": "stream",
     "text": [
      "This is my method of xyz1 class\n"
     ]
    }
   ],
   "source": [
    "class xyz:\n",
    "    def __init__(self,a,b,c):\n",
    "        self.a=a\n",
    "        self.b=b\n",
    "        self.c=c\n",
    "        \n",
    "    def test(self):\n",
    "        print(\"This is my method of this class\")\n",
    "        \n",
    "class xyz1(xyz):\n",
    "     def test_1(self):\n",
    "            print(\"This is my method of xyz1 class\")\n",
    "            \n",
    "class xyz2(xyz1):\n",
    "    def test_2(self):\n",
    "        print(\"This is my method of xyz2 class\")\n",
    "        \n",
    "\n",
    "n=xyz1(1,2,3)\n",
    "n.test_1()"
   ]
  },
  {
   "cell_type": "markdown",
   "id": "0c4afe85",
   "metadata": {},
   "source": [
    "# Abstract class"
   ]
  },
  {
   "cell_type": "code",
   "execution_count": 3,
   "id": "f3723aec",
   "metadata": {},
   "outputs": [],
   "source": [
    "# Abstract class are blueprint of the class,an abstract class is a class that cannot be instantiated."
   ]
  },
  {
   "cell_type": "code",
   "execution_count": 4,
   "id": "05238028",
   "metadata": {},
   "outputs": [],
   "source": [
    "class Payroll:\n",
    "    def __init__(self):\n",
    "        self.employee_list = []\n",
    "\n",
    "    def add(self, employee):\n",
    "        self.employee_list.append(employee)\n",
    "\n",
    "    def print(self):\n",
    "        for e in self.employee_list:\n",
    "            print(f\"{e.full_name} \\t ${e.get_salary()}\")"
   ]
  },
  {
   "cell_type": "code",
   "execution_count": 5,
   "id": "9be32539",
   "metadata": {},
   "outputs": [],
   "source": [
    "from abc import ABC, abstractmethod\n",
    " \n",
    "class AbstractClassExample(ABC):\n",
    " \n",
    "    def __init__(self, value):\n",
    "        self.value = value\n",
    "        super().__init__()\n",
    "    \n",
    "    @abstractmethod\n",
    "    def do_something(self):\n",
    "        pass"
   ]
  },
  {
   "cell_type": "markdown",
   "id": "45fbcb7b",
   "metadata": {},
   "source": [
    "# Decorator"
   ]
  },
  {
   "cell_type": "code",
   "execution_count": 6,
   "id": "9968b5fd",
   "metadata": {},
   "outputs": [],
   "source": [
    "# A decorator in Python is a function that takes another function as its argument, and returns yet another function."
   ]
  },
  {
   "cell_type": "code",
   "execution_count": 7,
   "id": "d23519f6",
   "metadata": {},
   "outputs": [],
   "source": [
    "def outer_function():\n",
    "    '''Assign task to student'''\n",
    "\n",
    "    task = 'Read a Python book.'\n",
    "    def inner_function():\n",
    "        print(task)\n",
    "    return inner_function"
   ]
  },
  {
   "cell_type": "code",
   "execution_count": 8,
   "id": "2d8968b2",
   "metadata": {},
   "outputs": [],
   "source": [
    "homework = outer_function()"
   ]
  },
  {
   "cell_type": "code",
   "execution_count": 9,
   "id": "48e37661",
   "metadata": {},
   "outputs": [
    {
     "name": "stdout",
     "output_type": "stream",
     "text": [
      "Read a Python book.\n"
     ]
    }
   ],
   "source": [
    "homework()"
   ]
  },
  {
   "cell_type": "code",
   "execution_count": null,
   "id": "9720a72a",
   "metadata": {},
   "outputs": [],
   "source": []
  }
 ],
 "metadata": {
  "kernelspec": {
   "display_name": "Python 3 (ipykernel)",
   "language": "python",
   "name": "python3"
  },
  "language_info": {
   "codemirror_mode": {
    "name": "ipython",
    "version": 3
   },
   "file_extension": ".py",
   "mimetype": "text/x-python",
   "name": "python",
   "nbconvert_exporter": "python",
   "pygments_lexer": "ipython3",
   "version": "3.9.7"
  },
  "varInspector": {
   "cols": {
    "lenName": 16,
    "lenType": 16,
    "lenVar": 40
   },
   "kernels_config": {
    "python": {
     "delete_cmd_postfix": "",
     "delete_cmd_prefix": "del ",
     "library": "var_list.py",
     "varRefreshCmd": "print(var_dic_list())"
    },
    "r": {
     "delete_cmd_postfix": ") ",
     "delete_cmd_prefix": "rm(",
     "library": "var_list.r",
     "varRefreshCmd": "cat(var_dic_list()) "
    }
   },
   "types_to_exclude": [
    "module",
    "function",
    "builtin_function_or_method",
    "instance",
    "_Feature"
   ],
   "window_display": false
  }
 },
 "nbformat": 4,
 "nbformat_minor": 5
}
